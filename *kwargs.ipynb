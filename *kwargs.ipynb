{
  "nbformat": 4,
  "nbformat_minor": 0,
  "metadata": {
    "colab": {
      "provenance": [],
      "authorship_tag": "ABX9TyNkNl0IeMxDrxrzIzDyittY",
      "include_colab_link": true
    },
    "kernelspec": {
      "name": "python3",
      "display_name": "Python 3"
    },
    "language_info": {
      "name": "python"
    }
  },
  "cells": [
    {
      "cell_type": "markdown",
      "metadata": {
        "id": "view-in-github",
        "colab_type": "text"
      },
      "source": [
        "<a href=\"https://colab.research.google.com/github/Akshay-PG/Python-Core-Basics/blob/main/*kwargs.ipynb\" target=\"_parent\"><img src=\"https://colab.research.google.com/assets/colab-badge.svg\" alt=\"Open In Colab\"/></a>"
      ]
    },
    {
      "cell_type": "code",
      "source": [
        "def my_func(x, y=7, *args, **kwargs):\n",
        "    print(kwargs)\n",
        "\n",
        "my_func(2, 3, 4, 5, 6, a=7, b=8)"
      ],
      "metadata": {
        "colab": {
          "base_uri": "https://localhost:8080/"
        },
        "id": "1k9F5UGbR1fe",
        "outputId": "bedcd42c-dfce-4e9f-8999-289339d461af"
      },
      "execution_count": 1,
      "outputs": [
        {
          "output_type": "stream",
          "name": "stdout",
          "text": [
            "{'a': 7, 'b': 8}\n"
          ]
        }
      ]
    },
    {
      "cell_type": "markdown",
      "source": [
        "kwargs is just a naming convention. The asterisk (*) before the \"kwargs\" variable name is what allows the function to accept multiple keyword argument"
      ],
      "metadata": {
        "id": "BF-XB4EeYHH9"
      }
    },
    {
      "cell_type": "markdown",
      "source": [
        "The term \"kwargs\" is short for \"keyword arguments.\" It allows you to pass a variable number of keyword arguments to a function, which are then collected into a dictionary."
      ],
      "metadata": {
        "id": "eHBPCH6GYIk7"
      }
    },
    {
      "cell_type": "markdown",
      "source": [
        "Inside the function, you can work with the kwargs dictionary like any other dictionary, accessing the keys and values, iterating over them, or performing any other dictionary operations as needed."
      ],
      "metadata": {
        "id": "c066Aq7XYTYt"
      }
    }
  ]
}