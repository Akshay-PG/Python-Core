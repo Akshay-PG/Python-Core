{
  "nbformat": 4,
  "nbformat_minor": 0,
  "metadata": {
    "colab": {
      "provenance": [],
      "authorship_tag": "ABX9TyOuuF9TgvyT0QvjjG4FvpWy",
      "include_colab_link": true
    },
    "kernelspec": {
      "name": "python3",
      "display_name": "Python 3"
    },
    "language_info": {
      "name": "python"
    }
  },
  "cells": [
    {
      "cell_type": "markdown",
      "metadata": {
        "id": "view-in-github",
        "colab_type": "text"
      },
      "source": [
        "<a href=\"https://colab.research.google.com/github/Akshay-PG/Python-Core-Basics/blob/main/Recursion.ipynb\" target=\"_parent\"><img src=\"https://colab.research.google.com/assets/colab-badge.svg\" alt=\"Open In Colab\"/></a>"
      ]
    },
    {
      "cell_type": "markdown",
      "source": [
        "RECURSION\n",
        " #Calling a function within a function is called recursion.\n",
        "\n",
        " #Recursion is a programming concept where a function calls itself directly or indirectly.\n",
        "\n",
        " #In other words, a recursive function solves a problem by dividing it into smaller subproblems.\n",
        "\n",
        " #It continues to break down the problem until it reaches a base case\n",
        "\n",
        " #BASE CASE is a simple problem that can be solved directly without further recursion."
      ],
      "metadata": {
        "id": "lcmmcN6rfVgf"
      }
    },
    {
      "cell_type": "code",
      "source": [
        "def wish():\n",
        "  print(\"Good Morning\")\n",
        "  wish()\n",
        "\n",
        "wish()"
      ],
      "metadata": {
        "id": "FuBvdvJjo7Rt"
      },
      "execution_count": null,
      "outputs": []
    },
    {
      "cell_type": "code",
      "source": [
        "def factorial(x):\n",
        "    if x == 1:\n",
        "        return 1\n",
        "    else:\n",
        "        return x * factorial(x-1)\n",
        "\n",
        "print(factorial(5))"
      ],
      "metadata": {
        "colab": {
          "base_uri": "https://localhost:8080/"
        },
        "id": "vFkIpa1yo76I",
        "outputId": "e75b68a1-92b8-4a38-9676-562d3ba9dba1"
      },
      "execution_count": 5,
      "outputs": [
        {
          "output_type": "stream",
          "name": "stdout",
          "text": [
            "120\n"
          ]
        }
      ]
    }
  ]
}