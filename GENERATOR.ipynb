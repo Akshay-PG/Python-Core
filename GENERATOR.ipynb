{
  "cells": [
    {
      "cell_type": "markdown",
      "metadata": {
        "id": "view-in-github",
        "colab_type": "text"
      },
      "source": [
        "<a href=\"https://colab.research.google.com/github/Akshay-PG/Python-Core-Basics/blob/main/GENERATOR.ipynb\" target=\"_parent\"><img src=\"https://colab.research.google.com/assets/colab-badge.svg\" alt=\"Open In Colab\"/></a>"
      ]
    },
    {
      "cell_type": "code",
      "execution_count": 10,
      "metadata": {
        "colab": {
          "base_uri": "https://localhost:8080/"
        },
        "id": "3HMAJ763rrT2",
        "outputId": "4cfb588b-2c82-47aa-ba88-3c3ee0fb268e"
      },
      "outputs": [
        {
          "output_type": "stream",
          "name": "stdout",
          "text": [
            "1\n",
            "2\n",
            "3\n",
            "4\n",
            "5\n",
            "6\n",
            "7\n"
          ]
        }
      ],
      "source": [
        "#iterable\n",
        "lst = [1,2,3,4,5,6,7]\n",
        "for i in lst:\n",
        "  print(i)"
      ]
    },
    {
      "cell_type": "code",
      "execution_count": 11,
      "metadata": {
        "id": "G0t1P2vFsB3C"
      },
      "outputs": [],
      "source": [
        "#iterator\n",
        "s = iter(lst)"
      ]
    },
    {
      "cell_type": "code",
      "execution_count": 13,
      "metadata": {
        "colab": {
          "base_uri": "https://localhost:8080/"
        },
        "id": "xd2LWZCOsSNc",
        "outputId": "468cb7de-7a0d-4e45-82bc-6fd1c47d018a"
      },
      "outputs": [
        {
          "output_type": "stream",
          "name": "stdout",
          "text": [
            "2\n"
          ]
        }
      ],
      "source": [
        "try:\n",
        "  print(next(s))\n",
        "except StopIteration:\n",
        "  print(\"you iterated the entire list\")"
      ]
    },
    {
      "cell_type": "code",
      "source": [
        " next(s)"
      ],
      "metadata": {
        "colab": {
          "base_uri": "https://localhost:8080/"
        },
        "id": "k_1VW8Av4wJa",
        "outputId": "45396173-694c-42d0-f9ff-4c2c82a413ad"
      },
      "execution_count": 8,
      "outputs": [
        {
          "output_type": "execute_result",
          "data": {
            "text/plain": [
              "5"
            ]
          },
          "metadata": {},
          "execution_count": 8
        }
      ]
    },
    {
      "cell_type": "code",
      "source": [
        "for i in s:\n",
        "  print(i)"
      ],
      "metadata": {
        "colab": {
          "base_uri": "https://localhost:8080/"
        },
        "id": "fsVUoHmY40rX",
        "outputId": "735fd434-7f07-4d51-8ae8-fe103115ac5a"
      },
      "execution_count": 9,
      "outputs": [
        {
          "output_type": "stream",
          "name": "stdout",
          "text": [
            "6\n",
            "7\n"
          ]
        }
      ]
    },
    {
      "cell_type": "markdown",
      "source": [
        "\n",
        "##GENERATOR"
      ],
      "metadata": {
        "id": "rAB9fZC564BZ"
      }
    },
    {
      "cell_type": "markdown",
      "source": [
        "GENERATOR is used create a iterator"
      ],
      "metadata": {
        "id": "9eIV0Mry7NVx"
      }
    },
    {
      "cell_type": "code",
      "source": [
        "def square(n):\n",
        "  for i in range(n):\n",
        "    yield i**2"
      ],
      "metadata": {
        "id": "mk-Pdxok6KHa"
      },
      "execution_count": 20,
      "outputs": []
    },
    {
      "cell_type": "code",
      "source": [
        "a = square(3)"
      ],
      "metadata": {
        "id": "jdZVBQhn8nyk"
      },
      "execution_count": 21,
      "outputs": []
    },
    {
      "cell_type": "code",
      "source": [
        "for i in square(3):\n",
        "  print(i)"
      ],
      "metadata": {
        "colab": {
          "base_uri": "https://localhost:8080/"
        },
        "id": "lS_RIr-X85dL",
        "outputId": "e5a87d55-755d-416b-92a0-3bb8fa4d574e"
      },
      "execution_count": 22,
      "outputs": [
        {
          "output_type": "stream",
          "name": "stdout",
          "text": [
            "0\n",
            "1\n",
            "4\n"
          ]
        }
      ]
    },
    {
      "cell_type": "code",
      "source": [
        "next(a)"
      ],
      "metadata": {
        "colab": {
          "base_uri": "https://localhost:8080/"
        },
        "id": "VyPyx-219DAU",
        "outputId": "badb1085-44e0-4e41-a00d-e6e96f7aedb7"
      },
      "execution_count": 24,
      "outputs": [
        {
          "output_type": "execute_result",
          "data": {
            "text/plain": [
              "1"
            ]
          },
          "metadata": {},
          "execution_count": 24
        }
      ]
    },
    {
      "cell_type": "markdown",
      "source": [
        "##DIFFRENCE between Generator and Iterator"
      ],
      "metadata": {
        "id": "w5sX8Dz9DGoU"
      }
    },
    {
      "cell_type": "code",
      "source": [
        "# To create Iterator we use iter()\n",
        "# To Create Generator we use a Function and yield keyword\n",
        "\n",
        "# yield keyword saves the local variable\n",
        "\n",
        "# genarator is fast and compact\n",
        "# iterator is more memmory efficient"
      ],
      "metadata": {
        "id": "k8z66r6LD76s"
      },
      "execution_count": 32,
      "outputs": []
    }
  ],
  "metadata": {
    "colab": {
      "provenance": [],
      "authorship_tag": "ABX9TyMx7TKDc4lSwJuelc9/6Rab",
      "include_colab_link": true
    },
    "kernelspec": {
      "display_name": "Python 3",
      "name": "python3"
    },
    "language_info": {
      "name": "python"
    }
  },
  "nbformat": 4,
  "nbformat_minor": 0
}