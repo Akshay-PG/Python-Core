{
  "nbformat": 4,
  "nbformat_minor": 0,
  "metadata": {
    "colab": {
      "provenance": [],
      "authorship_tag": "ABX9TyMw3ZvftPPCABnXs4zD5JPX",
      "include_colab_link": true
    },
    "kernelspec": {
      "name": "python3",
      "display_name": "Python 3"
    },
    "language_info": {
      "name": "python"
    }
  },
  "cells": [
    {
      "cell_type": "markdown",
      "metadata": {
        "id": "view-in-github",
        "colab_type": "text"
      },
      "source": [
        "<a href=\"https://colab.research.google.com/github/Akshay-PG/Python-Core-Basics/blob/main/class.ipynb\" target=\"_parent\"><img src=\"https://colab.research.google.com/assets/colab-badge.svg\" alt=\"Open In Colab\"/></a>"
      ]
    },
    {
      "cell_type": "markdown",
      "source": [
        "collection / package of related variables and functions"
      ],
      "metadata": {
        "id": "KF_7XWvcQpeU"
      }
    },
    {
      "cell_type": "markdown",
      "source": [
        "it has many advanced features like:\n",
        "constructor,\n",
        "polymorphism,\n",
        "encapsulation,\n",
        "inheritance"
      ],
      "metadata": {
        "id": "EvQodxhnRKsm"
      }
    },
    {
      "cell_type": "code",
      "execution_count": null,
      "metadata": {
        "colab": {
          "base_uri": "https://localhost:8080/"
        },
        "id": "wVHzRSAYP-CA",
        "outputId": "c7243e5e-7d35-49b3-8769-1a918b45d3fe"
      },
      "outputs": [
        {
          "output_type": "stream",
          "name": "stdout",
          "text": [
            "hello world\n",
            "10\n"
          ]
        }
      ],
      "source": [
        "class s:\n",
        "  a= 10\n",
        "  def h(self):\n",
        "    print(\"hello world\")\n",
        "obj = s()\n",
        "\n",
        "obj.h()\n",
        "print(obj.a)"
      ]
    }
  ]
}