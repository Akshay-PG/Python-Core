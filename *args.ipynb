{
  "nbformat": 4,
  "nbformat_minor": 0,
  "metadata": {
    "colab": {
      "provenance": [],
      "authorship_tag": "ABX9TyMLmzVTHc9RB9Kcyc+fmCGK",
      "include_colab_link": true
    },
    "kernelspec": {
      "name": "python3",
      "display_name": "Python 3"
    },
    "language_info": {
      "name": "python"
    }
  },
  "cells": [
    {
      "cell_type": "markdown",
      "metadata": {
        "id": "view-in-github",
        "colab_type": "text"
      },
      "source": [
        "<a href=\"https://colab.research.google.com/github/Akshay-PG/Python-Core-Basics/blob/main/*args.ipynb\" target=\"_parent\"><img src=\"https://colab.research.google.com/assets/colab-badge.svg\" alt=\"Open In Colab\"/></a>"
      ]
    },
    {
      "cell_type": "code",
      "execution_count": null,
      "metadata": {
        "id": "hZ2GEMv2PdPc",
        "colab": {
          "base_uri": "https://localhost:8080/"
        },
        "outputId": "42410eb3-f22f-4a1c-828a-e69b09e90ea0"
      },
      "outputs": [
        {
          "output_type": "stream",
          "name": "stdout",
          "text": [
            "1\n",
            "(2, 3, 4, 5)\n"
          ]
        }
      ],
      "source": [
        "def function(named_arg, *args):\n",
        "    print(named_arg)\n",
        "    print(args)\n",
        "\n",
        "function(1, 2, 3, 4, 5)"
      ]
    },
    {
      "cell_type": "markdown",
      "source": [
        "Using *args provides flexibility in defining functions that can accept a varying number of arguments without having to specify them explicitly in the function definition."
      ],
      "metadata": {
        "id": "ba0qVUSKP1nY"
      }
    }
  ]
}