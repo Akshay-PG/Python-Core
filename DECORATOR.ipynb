{
  "nbformat": 4,
  "nbformat_minor": 0,
  "metadata": {
    "colab": {
      "provenance": [],
      "authorship_tag": "ABX9TyOa+Aaef+9g0n7r9+ZOtx3l"
    },
    "kernelspec": {
      "name": "python3",
      "display_name": "Python 3"
    },
    "language_info": {
      "name": "python"
    }
  },
  "cells": [
    {
      "cell_type": "markdown",
      "source": [
        "Decorators are used to change or improvise the behaviour of a function,without changing the function"
      ],
      "metadata": {
        "id": "RE1hvu4yl8Jt"
      }
    },
    {
      "cell_type": "code",
      "execution_count": 14,
      "metadata": {
        "id": "w1Trn0OCl3_-"
      },
      "outputs": [],
      "source": [
        "def s():\n",
        "  print(\"welcome\")"
      ]
    },
    {
      "cell_type": "code",
      "source": [
        "def d(func):\n",
        "    def y():\n",
        "        print(\"enter\")\n",
        "        func()\n",
        "        print('thanks')\n",
        "    return y"
      ],
      "metadata": {
        "id": "FXrlQtnoqmUy"
      },
      "execution_count": 15,
      "outputs": []
    },
    {
      "cell_type": "code",
      "source": [
        "@d\n",
        "def s():\n",
        "  print(\"welcome\")"
      ],
      "metadata": {
        "id": "d4O3N9v4r3Jo"
      },
      "execution_count": 16,
      "outputs": []
    },
    {
      "cell_type": "code",
      "source": [
        "s()"
      ],
      "metadata": {
        "colab": {
          "base_uri": "https://localhost:8080/"
        },
        "id": "k4i95nSuqsIv",
        "outputId": "ecbfbe2f-2240-421e-d890-197067cd130a"
      },
      "execution_count": 17,
      "outputs": [
        {
          "output_type": "stream",
          "name": "stdout",
          "text": [
            "enter\n",
            "welcome\n",
            "thanks\n"
          ]
        }
      ]
    }
  ]
}