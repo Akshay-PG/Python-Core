{
  "nbformat": 4,
  "nbformat_minor": 0,
  "metadata": {
    "colab": {
      "provenance": [],
      "authorship_tag": "ABX9TyPwKzaRWeseTR6EgLMB0Dp3",
      "include_colab_link": true
    },
    "kernelspec": {
      "name": "python3",
      "display_name": "Python 3"
    },
    "language_info": {
      "name": "python"
    }
  },
  "cells": [
    {
      "cell_type": "markdown",
      "metadata": {
        "id": "view-in-github",
        "colab_type": "text"
      },
      "source": [
        "<a href=\"https://colab.research.google.com/github/Akshay-PG/Python-Core-Basics/blob/main/Inheritance.ipynb\" target=\"_parent\"><img src=\"https://colab.research.google.com/assets/colab-badge.svg\" alt=\"Open In Colab\"/></a>"
      ]
    },
    {
      "cell_type": "markdown",
      "source": [
        "Inheritance provides a way to share\n",
        "functionality between classes.\n",
        "If there are classes, Cat, Dog, Rabbit\n",
        "and so on. Although they may differ in\n",
        "some ways they are likely to be similar in\n",
        "others.\n",
        "This similarity can be expressed by making\n",
        "them all inherit from a superclass Animal,\n",
        "which contains the shared functionality.\n",
        "To inherit a class from another class, put\n",
        "the superclass name in parentheses after\n",
        "the class namne."
      ],
      "metadata": {
        "id": "oqh-ORj6Hmka"
      }
    },
    {
      "cell_type": "code",
      "execution_count": 1,
      "metadata": {
        "colab": {
          "base_uri": "https://localhost:8080/"
        },
        "id": "8PVoTRoXHiVc",
        "outputId": "9de60082-4ce0-4690-84e9-19a46c4db5e6"
      },
      "outputs": [
        {
          "output_type": "stream",
          "name": "stdout",
          "text": [
            "brown\n",
            "Woof!\n"
          ]
        }
      ],
      "source": [
        "class Animal:\n",
        "    def __init__(self, name, color):\n",
        "        self.name = name\n",
        "        self.color = color\n",
        "\n",
        "class Cat(Animal):\n",
        "    def purr(self):\n",
        "        print(\"Purr...\")\n",
        "\n",
        "class Dog(Animal):\n",
        "    def bark(self):\n",
        "        print(\"Woof!\")\n",
        "\n",
        "fido = Dog(\"Fido\", \"brown\")\n",
        "print(fido.color)\n",
        "fido.bark()"
      ]
    }
  ]
}