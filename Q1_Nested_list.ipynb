{
  "nbformat": 4,
  "nbformat_minor": 0,
  "metadata": {
    "colab": {
      "provenance": [],
      "authorship_tag": "ABX9TyNl+KYtYaK6KSVKjcvwJDFe",
      "include_colab_link": true
    },
    "kernelspec": {
      "name": "python3",
      "display_name": "Python 3"
    },
    "language_info": {
      "name": "python"
    }
  },
  "cells": [
    {
      "cell_type": "markdown",
      "metadata": {
        "id": "view-in-github",
        "colab_type": "text"
      },
      "source": [
        "<a href=\"https://colab.research.google.com/github/Akshay-PG/Python-Core-Basics/blob/main/Q1_Nested_list.ipynb\" target=\"_parent\"><img src=\"https://colab.research.google.com/assets/colab-badge.svg\" alt=\"Open In Colab\"/></a>"
      ]
    },
    {
      "cell_type": "markdown",
      "source": [
        "\n",
        "\n",
        "Given the names and grades for each student in a class of N students,\n",
        "store them in a nested list and print the name(s) of any student(s)\n",
        "having the second lowest grade.\n",
        "Note: If there are multiple students with the second lowest grade,\n",
        "order their names alphabetically and print each name on a new line.."
      ],
      "metadata": {
        "id": "Ki60WP8z0aX_"
      }
    },
    {
      "cell_type": "code",
      "execution_count": null,
      "metadata": {
        "colab": {
          "base_uri": "https://localhost:8080/"
        },
        "id": "EoToLeiixb8Q",
        "outputId": "9be5b62c-ab4c-4d13-b459-7d8a3cf59f9e"
      },
      "outputs": [
        {
          "output_type": "stream",
          "name": "stdout",
          "text": [
            "Enter the number of students: 5\n",
            "Enter the student name: ak\n",
            "Enter the student grade: 56\n",
            "Enter the student name: lk\n",
            "Enter the student grade: 56\n",
            "Enter the student name: dd\n",
            "Enter the student grade: 23\n",
            "Enter the student name: qq\n",
            "Enter the student grade: 74\n",
            "Enter the student name: qc\n",
            "Enter the student grade: 36\n",
            "qc\n"
          ]
        }
      ],
      "source": [
        "\n",
        "n = int(input(\"Enter the number of students: \"))\n",
        "\n",
        "students = []\n",
        "for _ in range(n):\n",
        "    name = input(\"Enter the student name: \")\n",
        "    grade = float(input(\"Enter the student grade: \"))\n",
        "    students.append([name, grade])\n",
        "\n",
        "\n",
        "grades = set([student[1] for student in students])\n",
        "second_lowest_grade = sorted(grades)[1]\n",
        "\n",
        "second_lowest_students = sorted([student[0] for student in students if student[1] == second_lowest_grade])\n",
        "\n",
        "for student in second_lowest_students:\n",
        "    print(student)\n"
      ]
    },
    {
      "cell_type": "code",
      "source": [
        "if __name__ == '__main__':\n",
        "    students = []\n",
        "    for _ in range(int(input())):\n",
        "        name = input()\n",
        "        score = float(input())\n",
        "        students.append([name, score])\n",
        "\n",
        "    first = 101.0\n",
        "    second = 101.0\n",
        "\n",
        "    for student in students:\n",
        "        studentScore = student[1]\n",
        "        if studentScore < first:\n",
        "            second = first\n",
        "            first = studentScore\n",
        "        elif first < studentScore < second:\n",
        "            second = studentScore\n",
        "\n",
        "    secondLowestNames = []\n",
        "\n",
        "    for student in students:\n",
        "        if student[1] == second:\n",
        "            secondLowestNames.append(student[0])\n",
        "\n",
        "    secondLowestNames.sort()\n",
        "    for name in secondLowestNames:\n",
        "        print(name)\n"
      ],
      "metadata": {
        "id": "zWoSagkH_3Vf"
      },
      "execution_count": null,
      "outputs": []
    }
  ]
}