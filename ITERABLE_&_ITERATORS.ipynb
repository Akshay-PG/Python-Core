{
  "nbformat": 4,
  "nbformat_minor": 0,
  "metadata": {
    "colab": {
      "provenance": [],
      "authorship_tag": "ABX9TyPDLQdD6FpxtHdVX/8kUgWi",
      "include_colab_link": true
    },
    "kernelspec": {
      "name": "python3",
      "display_name": "Python 3"
    },
    "language_info": {
      "name": "python"
    }
  },
  "cells": [
    {
      "cell_type": "markdown",
      "metadata": {
        "id": "view-in-github",
        "colab_type": "text"
      },
      "source": [
        "<a href=\"https://colab.research.google.com/github/Akshay-PG/Python-Core-Basics/blob/main/ITERABLE_%26_ITERATORS.ipynb\" target=\"_parent\"><img src=\"https://colab.research.google.com/assets/colab-badge.svg\" alt=\"Open In Colab\"/></a>"
      ]
    },
    {
      "cell_type": "code",
      "execution_count": 1,
      "metadata": {
        "colab": {
          "base_uri": "https://localhost:8080/"
        },
        "id": "C0176LwO5D9e",
        "outputId": "40cedb8a-6251-4bbe-fc2b-2e3a07e79c58"
      },
      "outputs": [
        {
          "output_type": "stream",
          "name": "stdout",
          "text": [
            "1\n",
            "2\n",
            "3\n",
            "4\n",
            "5\n"
          ]
        }
      ],
      "source": [
        "#iterable\n",
        "lst = [1,2,3,4,5]\n",
        "for x in lst:\n",
        "    print(x)"
      ]
    },
    {
      "cell_type": "code",
      "source": [
        "#iterator ____iter\n",
        "s = iter(lst)"
      ],
      "metadata": {
        "id": "cNIz41v25P-2"
      },
      "execution_count": 3,
      "outputs": []
    },
    {
      "cell_type": "code",
      "source": [
        "print(s)"
      ],
      "metadata": {
        "colab": {
          "base_uri": "https://localhost:8080/"
        },
        "id": "J_2waKFd5Xkx",
        "outputId": "1cfe658b-aa5b-4658-e7c3-edc8c1f8a835"
      },
      "execution_count": 4,
      "outputs": [
        {
          "output_type": "stream",
          "name": "stdout",
          "text": [
            "<list_iterator object at 0x7f0d3264c5e0>\n"
          ]
        }
      ]
    },
    {
      "cell_type": "code",
      "source": [
        "type(s)"
      ],
      "metadata": {
        "colab": {
          "base_uri": "https://localhost:8080/"
        },
        "id": "8fP_GfDZ5aFv",
        "outputId": "a4b64665-7a80-4d84-a4dd-37499749ec0b"
      },
      "execution_count": 5,
      "outputs": [
        {
          "output_type": "execute_result",
          "data": {
            "text/plain": [
              "list_iterator"
            ]
          },
          "metadata": {},
          "execution_count": 5
        }
      ]
    },
    {
      "cell_type": "code",
      "source": [
        "try:\n",
        "  next(s)\n",
        "except StopIteration:\n",
        "  print(\"you iterated the entire list\")\n"
      ],
      "metadata": {
        "colab": {
          "base_uri": "https://localhost:8080/"
        },
        "id": "B7HhtD8d5cph",
        "outputId": "a8b9c58d-75ae-450f-da72-096780b58768"
      },
      "execution_count": 13,
      "outputs": [
        {
          "output_type": "stream",
          "name": "stdout",
          "text": [
            "you iterated the entire list\n"
          ]
        }
      ]
    }
  ]
}